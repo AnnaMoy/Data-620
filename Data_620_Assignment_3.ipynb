{
  "cells": [
    {
      "cell_type": "code",
      "execution_count": 23,
      "id": "c251fd2e",
      "metadata": {
        "id": "c251fd2e"
      },
      "outputs": [],
      "source": [
        "import networkx as nx\n",
        "import pandas as pd"
      ]
    },
    {
      "cell_type": "code",
      "execution_count": 24,
      "id": "0FT0NPRLBMfa",
      "metadata": {
        "colab": {
          "base_uri": "https://localhost:8080/"
        },
        "id": "0FT0NPRLBMfa",
        "outputId": "70dac913-9163-4e1a-d2ad-025a21c56eb0"
      },
      "outputs": [
        {
          "output_type": "stream",
          "name": "stdout",
          "text": [
            "--2025-09-14 23:43:53--  https://raw.githubusercontent.com/AnnaMoy/Data-620/refs/heads/main/roadNet-CA.txt\n",
            "Resolving raw.githubusercontent.com (raw.githubusercontent.com)... 185.199.108.133, 185.199.109.133, 185.199.110.133, ...\n",
            "Connecting to raw.githubusercontent.com (raw.githubusercontent.com)|185.199.108.133|:443... connected.\n",
            "HTTP request sent, awaiting response... 200 OK\n",
            "Length: 82254007 (78M) [text/plain]\n",
            "Saving to: ‘roadNet-CA.txt.2’\n",
            "\n",
            "roadNet-CA.txt.2    100%[===================>]  78.44M   183MB/s    in 0.4s    \n",
            "\n",
            "2025-09-14 23:43:53 (183 MB/s) - ‘roadNet-CA.txt.2’ saved [82254007/82254007]\n",
            "\n"
          ]
        }
      ],
      "source": [
        "!wget https://raw.githubusercontent.com/AnnaMoy/Data-620/refs/heads/main/roadNet-CA.txt"
      ]
    },
    {
      "cell_type": "code",
      "source": [
        "# url to represent the txt file\n",
        "url = 'https://raw.githubusercontent.com/AnnaMoy/Data-620/refs/heads/main/roadNet-CA.txt'\n",
        "\n",
        "# read the txt file\n",
        "df = pd.read_csv(url, sep='\\t', comment='#', names=['FromNodeId', 'ToNodeId'])\n",
        "\n",
        "# show the first 5 rows\n",
        "print(df.head())\n",
        "\n",
        "# show the dimension of the data frame\n",
        "df.shape"
      ],
      "metadata": {
        "colab": {
          "base_uri": "https://localhost:8080/"
        },
        "id": "CRC6WDnyddmI",
        "outputId": "4f4b2483-5ed1-4f9d-8abc-f91343417afa"
      },
      "id": "CRC6WDnyddmI",
      "execution_count": 25,
      "outputs": [
        {
          "output_type": "stream",
          "name": "stdout",
          "text": [
            "   FromNodeId  ToNodeId\n",
            "0           0         1\n",
            "1           0         2\n",
            "2           0       469\n",
            "3           1         0\n",
            "4           1         6\n"
          ]
        },
        {
          "output_type": "execute_result",
          "data": {
            "text/plain": [
              "(5533214, 2)"
            ]
          },
          "metadata": {},
          "execution_count": 25
        }
      ]
    },
    {
      "cell_type": "code",
      "execution_count": 26,
      "id": "e77d8587",
      "metadata": {
        "id": "e77d8587"
      },
      "outputs": [],
      "source": [
        "# Load the CA Road Dataset with a directed graph and node type is an interger\n",
        "# Directed graph are typically used for road network since we travel from point A to point B and not B to A.\n",
        "g = nx.read_edgelist('roadNet-CA.txt',create_using = nx.DiGraph(), nodetype = int)\n"
      ]
    },
    {
      "cell_type": "code",
      "execution_count": null,
      "id": "K__tVax-AUfn",
      "metadata": {
        "id": "K__tVax-AUfn"
      },
      "outputs": [],
      "source": [
        "# Convert to undirected (diameter and clustering coefficient)\n",
        "# Need to convert it back to undirected to be able to reach all the different nodes\n",
        "g_undirected = g.to_undirected()\n",
        "\n",
        "# Find and extract the largest connected component\n",
        "largest_cc = max(nx.connected_components(g_undirected), key=len)\n",
        "\n",
        "# Make a smaller network out of the largest group\n",
        "g_lcc = g_undirected.subgraph(largest_cc).copy()\n",
        "\n",
        "# Take a smaller network which includes the first 1000 points from the group\n",
        "small_graph = nx.subgraph(g_lcc, list(g_lcc.nodes)[:1000])"
      ]
    },
    {
      "cell_type": "code",
      "execution_count": null,
      "id": "-oX6OmF_Aaab",
      "metadata": {
        "id": "-oX6OmF_Aaab"
      },
      "outputs": [],
      "source": [
        "# Approximate diameter using eccentricity\n",
        "# Graph diameter is the largest number of vertices that must transversed in order to travel from one vertex to another\n",
        "from networkx.algorithms.approximation import diameter\n",
        "\n",
        "# Calculate the diameter and print results\n",
        "approx_diameter = diameter(g_lcc)\n",
        "print(\"Approximate Diameter:\", approx_diameter)"
      ]
    },
    {
      "cell_type": "code",
      "execution_count": null,
      "id": "foG00xqFAwGo",
      "metadata": {
        "id": "foG00xqFAwGo"
      },
      "outputs": [],
      "source": [
        "# Calculate the average clustering coefficient and print results\n",
        "clustering = nx.average_clustering(small_graph)\n",
        "print(\"Average Clustering Coefficient:\", clustering)"
      ]
    },
    {
      "cell_type": "code",
      "execution_count": null,
      "id": "SRv6_G3fAxMV",
      "metadata": {
        "id": "SRv6_G3fAxMV"
      },
      "outputs": [],
      "source": [
        "nx.write_gexf(small_graph, \"roadNet_CA_sampled.gexf\")"
      ]
    },
    {
      "cell_type": "code",
      "execution_count": null,
      "id": "Ifl1fbFUAyQU",
      "metadata": {
        "id": "Ifl1fbFUAyQU"
      },
      "outputs": [],
      "source": [
        "import matplotlib.pyplot as plt\n",
        "\n",
        "pos = nx.spring_layout(small_graph)\n",
        "nx.draw(small_graph, pos, node_size=20, with_labels=False)\n",
        "plt.show()\n"
      ]
    }
  ],
  "metadata": {
    "colab": {
      "provenance": []
    },
    "kernelspec": {
      "display_name": "Python 3 (ipykernel)",
      "language": "python",
      "name": "python3"
    },
    "language_info": {
      "codemirror_mode": {
        "name": "ipython",
        "version": 3
      },
      "file_extension": ".py",
      "mimetype": "text/x-python",
      "name": "python",
      "nbconvert_exporter": "python",
      "pygments_lexer": "ipython3",
      "version": "3.11.7"
    }
  },
  "nbformat": 4,
  "nbformat_minor": 5
}